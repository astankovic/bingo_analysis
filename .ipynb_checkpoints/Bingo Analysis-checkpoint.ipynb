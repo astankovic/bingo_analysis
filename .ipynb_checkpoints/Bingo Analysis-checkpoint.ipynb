{
 "cells": [
  {
   "cell_type": "markdown",
   "id": "d8e7bb08",
   "metadata": {},
   "source": [
    "# Analyze previous games data"
   ]
  },
  {
   "cell_type": "code",
   "execution_count": 2,
   "id": "a4c8d1d2",
   "metadata": {},
   "outputs": [],
   "source": [
    "import pandas as pd\n",
    "import random\n",
    "import numpy as np\n",
    "import matplotlib.pyplot as plt\n",
    "import math"
   ]
  },
  {
   "cell_type": "code",
   "execution_count": 3,
   "id": "7f59397d",
   "metadata": {},
   "outputs": [
    {
     "name": "stderr",
     "output_type": "stream",
     "text": [
      "/Users/andrijastankovic/opt/anaconda3/lib/python3.9/site-packages/IPython/core/interactiveshell.py:3444: FutureWarning: The error_bad_lines argument has been deprecated and will be removed in a future version.\n",
      "\n",
      "\n",
      "  exec(code_obj, self.user_global_ns, self.user_ns)\n"
     ]
    }
   ],
   "source": [
    "# data is stored in the output.txt file\n",
    "# first convert it to pandas df\n",
    "column_names = ['Time', 'Drawn1','Drawn2','Drawn3','Drawn4','Drawn5','Drawn6','Drawn7','Drawn8','Drawn9','Drawn10','Drawn11','Drawn12','Drawn13','Drawn14','Drawn15','Drawn16','Drawn17','Drawn18','Drawn19','Drawn20','Drawn21','Drawn22','Drawn23','Drawn24','Drawn25','Drawn26','Drawn27','Drawn28','Drawn29','Drawn30','Drawn31','Drawn32','Drawn33','Drawn34','Drawn35']\n",
    "data = pd.read_csv('output.txt',error_bad_lines=False,names=column_names)\n",
    "data['Time'] = pd.to_datetime(data['Time'], format=\"%d.%m.%Y. - %H:%M :\")\n",
    "data.set_index('Time', inplace=True)"
   ]
  },
  {
   "cell_type": "markdown",
   "id": "c755ff0c",
   "metadata": {},
   "source": [
    "## Check the drawn data against mathematical probabilities"
   ]
  },
  {
   "cell_type": "code",
   "execution_count": 4,
   "id": "0bcbf94d",
   "metadata": {},
   "outputs": [],
   "source": [
    "# setup dictionary of probabilities\n",
    "\n",
    "# GAME RULES: - there are 1-48 numbers in one round for selection,\n",
    "#        out of which 35 are boing drawn. \n",
    "#        - user picks 6 numbers to play with\n",
    "#        - if all of his 6 numbers are drawn, \n",
    "#.         he wins money back multiplied with coefficient depending on the drawn position:\n",
    "\n",
    "multipliers = [0, 0, 0, 0, 0,10000,7500,5000,2500,1000,500,300,200,150,100,80,60,40,30,25,20,18,16,14,12,10,9,8,7,6,5,4,3,2,1]\n",
    "multipliers = pd.Series(multipliers, index=range(1, len(multipliers) + 1))"
   ]
  },
  {
   "cell_type": "code",
   "execution_count": 172,
   "id": "97107313",
   "metadata": {},
   "outputs": [],
   "source": [
    "# now get probabilities for drawings\n",
    "def combination(n, k):\n",
    "    return math.comb(n, k)\n",
    "\n",
    "# Vectorize the combination function\n",
    "v_comb = np.vectorize(combination)\n",
    "\n",
    "drawings_array = np.array(range(1,36))\n",
    "drawn_numbers = 6\n",
    "\n",
    "probabilityOf35 = v_comb(drawings_array, np.full((35,), drawn_numbers))\n",
    "probabilityOf48 = np.full((35,), math.comb(48,6))\n",
    "\n",
    "probability_to_win_per_drawing = probabilityOf35 / probabilityOf48\n",
    "# convert to pandas series with index 1-35\n",
    "probability_to_win_per_drawing = pd.Series(probability_to_win_per_drawing, index=range(1, len(probability_to_win_per_drawing) + 1))"
   ]
  },
  {
   "cell_type": "code",
   "execution_count": 190,
   "id": "fc465fa3",
   "metadata": {},
   "outputs": [],
   "source": [
    "# define function for getting the winning index in a game if all matched \n",
    "def find_last_match_index(row, selected_six):\n",
    "    seen = set()\n",
    "    for idx, num in enumerate(row):\n",
    "        seen.add(num)\n",
    "        if selected_six.issubset(seen):\n",
    "            return int(idx + 1)\n",
    "    return None"
   ]
  },
  {
   "cell_type": "code",
   "execution_count": null,
   "id": "233ddc94",
   "metadata": {},
   "outputs": [],
   "source": [
    "# check the data for a random set of 6 numbers and get the success rate and compare to the mathematical prob\n",
    "list_of_random_played_numbers = []\n",
    "list_of_calcd_probabilities = []\n",
    "list_of_winnings = []\n",
    "\n",
    "for i in range(1,100):\n",
    "    random_set = random.sample(range(1, 48), 6)\n",
    "    list_of_random_played_numbers.append(random_set)\n",
    "    \n",
    "    # get calculated probabilities\n",
    "    winnings = data.apply(lambda row: find_last_match_index(row, set(random_set)), axis=1)\n",
    "    list_of_winnings.append(winnings)\n",
    "    # fill in indexing as some of the numbers could be missing\n",
    "    prob_of_winning = winnings.value_counts() / len(data)\n",
    "    prob_of_winning.index = prob_of_winning.index.astype(int)\n",
    "    prob_of_winning = prob_of_winning.reindex(range(1, prob_of_winning.index.max() + 1), fill_value=0)\n",
    "    list_of_calcd_probabilities.append(prob_of_winning)"
   ]
  },
  {
   "cell_type": "markdown",
   "id": "6bd6ef97",
   "metadata": {},
   "source": [
    "<b>winnings</b> will be used in the code for a series of indexes over datetime for specific combination. basically mapping winnings to multipliers gets you resulting yield (which can be summed and multiplied by bet to get the result in money)"
   ]
  },
  {
   "cell_type": "code",
   "execution_count": 178,
   "id": "2a6618bd",
   "metadata": {},
   "outputs": [
    {
     "data": {
      "image/png": "[encoded data removed]",
      "text/plain": [
       "<Figure size 720x432 with 1 Axes>"
      ]
     },
     "metadata": {
      "needs_background": "light"
     },
     "output_type": "display_data"
    }
   ],
   "source": [
    "# visualize\n",
    "import matplotlib.pyplot as plt\n",
    "\n",
    "percentages = probability_to_win_per_drawing * 100\n",
    "# show math probability\n",
    "plt.figure(figsize=(10,6))\n",
    "percentages.plot(marker='o', linestyle='-', color='b')\n",
    "plt.title('Winning probability per draw')\n",
    "plt.xlabel('Draw')\n",
    "plt.ylabel('Prob')\n",
    "plt.grid(True)\n",
    "plt.xticks(list(percentages.index))  # ensure x-ticks align with Series' index values\n",
    "\n",
    "# show random games winning rates\n",
    "for game in list_of_calcd_probabilities:\n",
    "    percentages = game * 100\n",
    "    percentages.plot(marker='o', linestyle='-', color='r')\n",
    "\n",
    "plt.show()"
   ]
  },
  {
   "cell_type": "code",
   "execution_count": 186,
   "id": "c173075e",
   "metadata": {},
   "outputs": [],
   "source": [
    "max_winning_rate = []\n",
    "for game in list_of_calcd_probabilities:\n",
    "    max_winning_rate.append(game.max())\n",
    "max_winning_rate = np.array(max_winning_rate)"
   ]
  },
  {
   "cell_type": "code",
   "execution_count": 187,
   "id": "5603e7af",
   "metadata": {},
   "outputs": [
    {
     "data": {
      "text/plain": [
       "0.027510316368638238"
      ]
     },
     "execution_count": 187,
     "metadata": {},
     "output_type": "execute_result"
    }
   ],
   "source": [
    "max_winning_rate.max()"
   ]
  },
  {
   "cell_type": "markdown",
   "id": "f2c56bf4",
   "metadata": {},
   "source": [
    "### Analyze winnings and losings"
   ]
  },
  {
   "cell_type": "code",
   "execution_count": 223,
   "id": "43a04799",
   "metadata": {},
   "outputs": [],
   "source": [
    "# now see how it looks like with betting actual money\n",
    "balances = []\n",
    "\n",
    "bet = 10 # dinara\n",
    "for game in list_of_winnings:\n",
    "    wins = game.map(multipliers)\n",
    "    wins.fillna(-1, inplace=True)\n",
    "    balance = wins.sum() * bet\n",
    "    balances.append(balance)"
   ]
  },
  {
   "cell_type": "code",
   "execution_count": 234,
   "id": "1c024e8a",
   "metadata": {},
   "outputs": [
    {
     "data": {
      "text/plain": [
       "<function matplotlib.pyplot.show(close=None, block=None)>"
      ]
     },
     "execution_count": 234,
     "metadata": {},
     "output_type": "execute_result"
    },
    {
     "data": {
      "image/png": "[encoded data removed]",
      "text/plain": [
       "<Figure size 432x288 with 1 Axes>"
      ]
     },
     "metadata": {
      "needs_background": "light"
     },
     "output_type": "display_data"
    }
   ],
   "source": [
    "g = [f'{i}' for i in range(len(balances))]\n",
    "plt.bar(g,balances)\n",
    "plt.show"
   ]
  },
  {
   "cell_type": "code",
   "execution_count": 240,
   "id": "2191d964",
   "metadata": {},
   "outputs": [
    {
     "name": "stdout",
     "output_type": "stream",
     "text": [
      "Maximum reward for a single combination: 48270.0\n",
      "Minimum reward for a single combination: -9960.0\n",
      "Total number of winning combinations: 37\n",
      "Total number of losing combinations: 62\n",
      "Total reward (sum of the winning combinations): 259390.0\n",
      "Total loses (sum of the losing combinations): -204940.0\n"
     ]
    }
   ],
   "source": [
    "balances = np.array(balances)\n",
    "print(f'Maximum reward for a single combination: {balances.max()}')\n",
    "print(f'Minimum reward for a single combination: {balances.min()}')\n",
    "print(f'Total number of winning combinations: {(balances > 0).sum()}')\n",
    "print(f'Total number of losing combinations: {(balances < 0).sum()}')\n",
    "print(f'Total reward (sum of the winning combinations): {balances[balances > 0].sum()}')\n",
    "print(f'Total loses (sum of the losing combinations): {balances[balances < 0].sum()}')"
   ]
  },
  {
   "cell_type": "markdown",
   "id": "8aa7043e",
   "metadata": {},
   "source": [
    "### Check numbers frequency"
   ]
  },
  {
   "cell_type": "code",
   "execution_count": 22,
   "id": "ae7961b2",
   "metadata": {},
   "outputs": [],
   "source": [
    "# get the data to a series\n",
    "frequencies = data.values.flatten().tolist()\n",
    "freq_series = pd.Series(frequencies).value_counts()\n",
    "freq_series = (freq_series - freq_series.min()) / freq_series.min() # get the variance\n",
    "freq_series.index = freq_series.index.astype(int)"
   ]
  },
  {
   "cell_type": "code",
   "execution_count": 23,
   "id": "7348a8c1",
   "metadata": {},
   "outputs": [
    {
     "data": {
      "image/png": "[encoded data removed]",
      "text/plain": [
       "<Figure size 1008x576 with 1 Axes>"
      ]
     },
     "metadata": {
      "needs_background": "light"
     },
     "output_type": "display_data"
    }
   ],
   "source": [
    "plt.figure(figsize=(14, 8))\n",
    "\n",
    "freq_series.plot(kind='bar', color='skyblue', edgecolor='black')\n",
    "\n",
    "plt.title('Frequency of Numbers in DataFrame')\n",
    "plt.xlabel('Number')\n",
    "plt.ylabel('Frequency')\n",
    "plt.xticks(rotation=0)  # To keep the x-axis labels horizontal\n",
    "plt.tight_layout()\n",
    "plt.show()"
   ]
  },
  {
   "cell_type": "code",
   "execution_count": null,
   "id": "9e5e8925",
   "metadata": {},
   "outputs": [],
   "source": []
  }
 ],
 "metadata": {
  "kernelspec": {
   "display_name": "Python 3 (ipykernel)",
   "language": "python",
   "name": "python3"
  },
  "language_info": {
   "codemirror_mode": {
    "name": "ipython",
    "version": 3
   },
   "file_extension": ".py",
   "mimetype": "text/x-python",
   "name": "python",
   "nbconvert_exporter": "python",
   "pygments_lexer": "ipython3",
   "version": "3.9.7"
  }
 },
 "nbformat": 4,
 "nbformat_minor": 5
}
